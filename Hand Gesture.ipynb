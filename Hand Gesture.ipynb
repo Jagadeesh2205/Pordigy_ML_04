{
 "cells": [
  {
   "cell_type": "code",
   "execution_count": 1,
   "id": "0125592e-e76b-486f-afa5-72c24584c7bb",
   "metadata": {},
   "outputs": [
    {
     "name": "stdout",
     "output_type": "stream",
     "text": [
      "Requirement already satisfied: kaggle in c:\\users\\a jagadeesh\\appdata\\local\\programs\\python\\python312\\lib\\site-packages (1.6.17)\n",
      "Requirement already satisfied: six>=1.10 in c:\\users\\a jagadeesh\\appdata\\local\\programs\\python\\python312\\lib\\site-packages (from kaggle) (1.16.0)\n",
      "Requirement already satisfied: certifi>=2023.7.22 in c:\\users\\a jagadeesh\\appdata\\local\\programs\\python\\python312\\lib\\site-packages (from kaggle) (2023.11.17)\n",
      "Requirement already satisfied: python-dateutil in c:\\users\\a jagadeesh\\appdata\\local\\programs\\python\\python312\\lib\\site-packages (from kaggle) (2.8.2)\n",
      "Requirement already satisfied: requests in c:\\users\\a jagadeesh\\appdata\\local\\programs\\python\\python312\\lib\\site-packages (from kaggle) (2.31.0)\n",
      "Requirement already satisfied: tqdm in c:\\users\\a jagadeesh\\appdata\\local\\programs\\python\\python312\\lib\\site-packages (from kaggle) (4.66.2)\n",
      "Requirement already satisfied: python-slugify in c:\\users\\a jagadeesh\\appdata\\local\\programs\\python\\python312\\lib\\site-packages (from kaggle) (8.0.4)\n",
      "Requirement already satisfied: urllib3 in c:\\users\\a jagadeesh\\appdata\\local\\programs\\python\\python312\\lib\\site-packages (from kaggle) (2.1.0)\n",
      "Requirement already satisfied: bleach in c:\\users\\a jagadeesh\\appdata\\local\\programs\\python\\python312\\lib\\site-packages (from kaggle) (6.1.0)\n",
      "Requirement already satisfied: webencodings in c:\\users\\a jagadeesh\\appdata\\local\\programs\\python\\python312\\lib\\site-packages (from bleach->kaggle) (0.5.1)\n",
      "Requirement already satisfied: text-unidecode>=1.3 in c:\\users\\a jagadeesh\\appdata\\local\\programs\\python\\python312\\lib\\site-packages (from python-slugify->kaggle) (1.3)\n",
      "Requirement already satisfied: charset-normalizer<4,>=2 in c:\\users\\a jagadeesh\\appdata\\local\\programs\\python\\python312\\lib\\site-packages (from requests->kaggle) (3.3.2)\n",
      "Requirement already satisfied: idna<4,>=2.5 in c:\\users\\a jagadeesh\\appdata\\local\\programs\\python\\python312\\lib\\site-packages (from requests->kaggle) (3.6)\n",
      "Requirement already satisfied: colorama in c:\\users\\a jagadeesh\\appdata\\local\\programs\\python\\python312\\lib\\site-packages (from tqdm->kaggle) (0.4.6)\n"
     ]
    },
    {
     "name": "stderr",
     "output_type": "stream",
     "text": [
      "\n",
      "[notice] A new release of pip is available: 24.1.1 -> 24.1.2\n",
      "[notice] To update, run: python.exe -m pip install --upgrade pip\n",
      "The syntax of the command is incorrect.\n",
      "'mv' is not recognized as an internal or external command,\n",
      "operable program or batch file.\n",
      "'chmod' is not recognized as an internal or external command,\n",
      "operable program or batch file.\n"
     ]
    }
   ],
   "source": [
    "!pip install kaggle\n",
    "\n",
    "!mkdir ~/.kaggle\n",
    "\n",
    "!mv kaggle.json ~/.kaggle/\n",
    "\n",
    "!chmod 600 ~/.kaggle/kaggle.json"
   ]
  },
  {
   "cell_type": "code",
   "execution_count": 2,
   "id": "576e61ec-ddb7-4446-b353-b72a14a1a93c",
   "metadata": {},
   "outputs": [],
   "source": [
    "# to dowload the daatsets from kaggle in command prompt: kaggle datasets download -d gti-upm/leapgestrecog\n"
   ]
  },
  {
   "cell_type": "code",
   "execution_count": 4,
   "id": "bd1b5c08-f273-44db-afda-9d2d3d56fafb",
   "metadata": {},
   "outputs": [],
   "source": [
    "import os\n",
    "import numpy as np\n",
    "import matplotlib.pyplot as plt\n",
    "import tensorflow as tf\n",
    "from tensorflow.keras.preprocessing.image import ImageDataGenerator\n",
    "from tensorflow.keras.models import Sequential\n",
    "from tensorflow.keras.layers import Conv2D, MaxPooling2D, Flatten, Dense, Dropout\n",
    "from sklearn.model_selection import train_test_split\n",
    "from sklearn.preprocessing import LabelBinarizer\n"
   ]
  },
  {
   "cell_type": "code",
   "execution_count": 5,
   "id": "28fe0e6a-926d-4bf3-ad89-6e879d6f2c57",
   "metadata": {},
   "outputs": [],
   "source": [
    "# Set the path to the dataset\n",
    "DATASET_PATH = 'C:/Users/A JAGADEESH/Desktop/Prodigy infotech/hand gesture/leapGestRecog'\n"
   ]
  },
  {
   "cell_type": "code",
   "execution_count": 8,
   "id": "3871ea49-8620-450f-8247-5859b3c41f0e",
   "metadata": {},
   "outputs": [],
   "source": [
    "import concurrent.futures "
   ]
  },
  {
   "cell_type": "code",
   "execution_count": 9,
   "id": "f7a600ac-9c26-47b3-94aa-d6ff16bba1ef",
   "metadata": {},
   "outputs": [],
   "source": [
    "def load_image(img_path):\n",
    "    img = tf.keras.preprocessing.image.load_img(img_path, target_size=(64, 64), color_mode='grayscale')\n",
    "    img_array = tf.keras.preprocessing.image.img_to_array(img)\n",
    "    label = os.path.basename(os.path.dirname(img_path))\n",
    "    return img_array, label\n",
    "\n",
    "def load_data(dataset_path):\n",
    "    images = []\n",
    "    labels = []\n",
    "    img_paths = []\n",
    "    for dirpath, dirnames, filenames in os.walk(dataset_path):\n",
    "        for filename in filenames:\n",
    "            if filename.endswith('.png'):\n",
    "                img_path = os.path.join(dirpath, filename)\n",
    "                img_paths.append(img_path)\n",
    "                \n",
    "    with concurrent.futures.ThreadPoolExecutor() as executor:\n",
    "        results = list(executor.map(load_image, img_paths))\n",
    "    \n",
    "    for img_array, label in results:\n",
    "        images.append(img_array)\n",
    "        labels.append(label)\n",
    "    \n",
    "    images = np.array(images)\n",
    "    labels = np.array(labels)\n",
    "    return images, labels\n",
    "\n",
    "# Set the path to the dataset\n",
    "DATASET_PATH = 'C:/Users/A JAGADEESH/Desktop/Prodigy infotech/hand gesture/leapGestRecog'\n",
    "\n",
    "images, labels = load_data(DATASET_PATH)\n",
    "\n",
    "# Normalize the images\n",
    "images = images / 255.0\n",
    "\n",
    "# Encode the labels\n",
    "label_binarizer = LabelBinarizer()\n",
    "labels = label_binarizer.fit_transform(labels)\n"
   ]
  },
  {
   "cell_type": "code",
   "execution_count": 10,
   "id": "0e2dba63-5c77-4e8a-a185-3ebd049c50c1",
   "metadata": {},
   "outputs": [],
   "source": [
    "# Split the data into training and testing sets\n",
    "X_train, X_test, y_train, y_test = train_test_split(images, labels, test_size=0.2, random_state=42)\n"
   ]
  },
  {
   "cell_type": "code",
   "execution_count": 11,
   "id": "c6b370bd-e3e0-4a59-b632-74db692804bc",
   "metadata": {},
   "outputs": [],
   "source": [
    "# Data augmentation\n",
    "datagen = ImageDataGenerator(\n",
    "    rotation_range=10,\n",
    "    width_shift_range=0.1,\n",
    "    height_shift_range=0.1,\n",
    "    zoom_range=0.1,\n",
    "    shear_range=0.1,\n",
    "    horizontal_flip=True\n",
    ")\n",
    "datagen.fit(X_train)\n"
   ]
  },
  {
   "cell_type": "code",
   "execution_count": 12,
   "id": "1f52a262-3a4b-4868-b5ea-4b6461fcdd03",
   "metadata": {},
   "outputs": [
    {
     "name": "stderr",
     "output_type": "stream",
     "text": [
      "C:\\Users\\A JAGADEESH\\AppData\\Local\\Programs\\Python\\Python312\\Lib\\site-packages\\keras\\src\\layers\\convolutional\\base_conv.py:99: UserWarning: Do not pass an `input_shape`/`input_dim` argument to a layer. When using Sequential models, prefer using an `Input(shape)` object as the first layer in the model instead.\n",
      "  super().__init__(\n"
     ]
    }
   ],
   "source": [
    "# Build the CNN model\n",
    "model = Sequential([\n",
    "    Conv2D(32, (3, 3), activation='relu', input_shape=(64, 64, 1)),\n",
    "    MaxPooling2D((2, 2)),\n",
    "    Conv2D(64, (3, 3), activation='relu'),\n",
    "    MaxPooling2D((2, 2)),\n",
    "    Conv2D(128, (3, 3), activation='relu'),\n",
    "    MaxPooling2D((2, 2)),\n",
    "    Flatten(),\n",
    "    Dense(128, activation='relu'),\n",
    "    Dropout(0.5),\n",
    "    Dense(len(label_binarizer.classes_), activation='softmax')\n",
    "])\n",
    "\n",
    "# Compile the model\n",
    "model.compile(optimizer='adam', loss='categorical_crossentropy', metrics=['accuracy'])\n"
   ]
  },
  {
   "cell_type": "code",
   "execution_count": 13,
   "id": "74c6779e-0497-4212-8035-b717e7de7340",
   "metadata": {},
   "outputs": [
    {
     "name": "stdout",
     "output_type": "stream",
     "text": [
      "Epoch 1/25\n"
     ]
    },
    {
     "name": "stderr",
     "output_type": "stream",
     "text": [
      "C:\\Users\\A JAGADEESH\\AppData\\Local\\Programs\\Python\\Python312\\Lib\\site-packages\\keras\\src\\trainers\\data_adapters\\py_dataset_adapter.py:122: UserWarning: Your `PyDataset` class should call `super().__init__(**kwargs)` in its constructor. `**kwargs` can include `workers`, `use_multiprocessing`, `max_queue_size`. Do not pass these arguments to `fit()`, as they will be ignored.\n",
      "  self._warn_if_super_not_called()\n"
     ]
    },
    {
     "name": "stdout",
     "output_type": "stream",
     "text": [
      "\u001b[1m1000/1000\u001b[0m \u001b[32m━━━━━━━━━━━━━━━━━━━━\u001b[0m\u001b[37m\u001b[0m \u001b[1m73s\u001b[0m 69ms/step - accuracy: 0.5965 - loss: 1.1149 - val_accuracy: 0.9783 - val_loss: 0.0486\n",
      "Epoch 2/25\n",
      "\u001b[1m1000/1000\u001b[0m \u001b[32m━━━━━━━━━━━━━━━━━━━━\u001b[0m\u001b[37m\u001b[0m \u001b[1m73s\u001b[0m 73ms/step - accuracy: 0.9400 - loss: 0.1805 - val_accuracy: 0.9961 - val_loss: 0.0151\n",
      "Epoch 3/25\n",
      "\u001b[1m1000/1000\u001b[0m \u001b[32m━━━━━━━━━━━━━━━━━━━━\u001b[0m\u001b[37m\u001b[0m \u001b[1m74s\u001b[0m 74ms/step - accuracy: 0.9709 - loss: 0.0929 - val_accuracy: 0.9984 - val_loss: 0.0082\n",
      "Epoch 4/25\n",
      "\u001b[1m1000/1000\u001b[0m \u001b[32m━━━━━━━━━━━━━━━━━━━━\u001b[0m\u001b[37m\u001b[0m \u001b[1m70s\u001b[0m 70ms/step - accuracy: 0.9788 - loss: 0.0643 - val_accuracy: 0.9971 - val_loss: 0.0091\n",
      "Epoch 5/25\n",
      "\u001b[1m1000/1000\u001b[0m \u001b[32m━━━━━━━━━━━━━━━━━━━━\u001b[0m\u001b[37m\u001b[0m \u001b[1m73s\u001b[0m 73ms/step - accuracy: 0.9868 - loss: 0.0429 - val_accuracy: 0.9986 - val_loss: 0.0033\n",
      "Epoch 6/25\n",
      "\u001b[1m1000/1000\u001b[0m \u001b[32m━━━━━━━━━━━━━━━━━━━━\u001b[0m\u001b[37m\u001b[0m \u001b[1m72s\u001b[0m 72ms/step - accuracy: 0.9878 - loss: 0.0419 - val_accuracy: 0.9989 - val_loss: 0.0039\n",
      "Epoch 7/25\n",
      "\u001b[1m1000/1000\u001b[0m \u001b[32m━━━━━━━━━━━━━━━━━━━━\u001b[0m\u001b[37m\u001b[0m \u001b[1m69s\u001b[0m 69ms/step - accuracy: 0.9881 - loss: 0.0374 - val_accuracy: 0.9986 - val_loss: 0.0067\n",
      "Epoch 8/25\n",
      "\u001b[1m1000/1000\u001b[0m \u001b[32m━━━━━━━━━━━━━━━━━━━━\u001b[0m\u001b[37m\u001b[0m \u001b[1m75s\u001b[0m 75ms/step - accuracy: 0.9898 - loss: 0.0329 - val_accuracy: 0.9998 - val_loss: 9.5086e-04\n",
      "Epoch 9/25\n",
      "\u001b[1m1000/1000\u001b[0m \u001b[32m━━━━━━━━━━━━━━━━━━━━\u001b[0m\u001b[37m\u001b[0m \u001b[1m74s\u001b[0m 74ms/step - accuracy: 0.9905 - loss: 0.0317 - val_accuracy: 0.9994 - val_loss: 0.0021\n",
      "Epoch 10/25\n",
      "\u001b[1m1000/1000\u001b[0m \u001b[32m━━━━━━━━━━━━━━━━━━━━\u001b[0m\u001b[37m\u001b[0m \u001b[1m70s\u001b[0m 70ms/step - accuracy: 0.9929 - loss: 0.0241 - val_accuracy: 0.9996 - val_loss: 0.0012\n",
      "Epoch 11/25\n",
      "\u001b[1m1000/1000\u001b[0m \u001b[32m━━━━━━━━━━━━━━━━━━━━\u001b[0m\u001b[37m\u001b[0m \u001b[1m69s\u001b[0m 69ms/step - accuracy: 0.9945 - loss: 0.0197 - val_accuracy: 0.9994 - val_loss: 0.0053\n",
      "Epoch 12/25\n",
      "\u001b[1m1000/1000\u001b[0m \u001b[32m━━━━━━━━━━━━━━━━━━━━\u001b[0m\u001b[37m\u001b[0m \u001b[1m164s\u001b[0m 164ms/step - accuracy: 0.9942 - loss: 0.0193 - val_accuracy: 0.9995 - val_loss: 0.0026\n",
      "Epoch 13/25\n",
      "\u001b[1m1000/1000\u001b[0m \u001b[32m━━━━━━━━━━━━━━━━━━━━\u001b[0m\u001b[37m\u001b[0m \u001b[1m71s\u001b[0m 71ms/step - accuracy: 0.9956 - loss: 0.0175 - val_accuracy: 0.9939 - val_loss: 0.0158\n",
      "Epoch 14/25\n",
      "\u001b[1m1000/1000\u001b[0m \u001b[32m━━━━━━━━━━━━━━━━━━━━\u001b[0m\u001b[37m\u001b[0m \u001b[1m69s\u001b[0m 69ms/step - accuracy: 0.9964 - loss: 0.0124 - val_accuracy: 0.9987 - val_loss: 0.0042\n",
      "Epoch 15/25\n",
      "\u001b[1m1000/1000\u001b[0m \u001b[32m━━━━━━━━━━━━━━━━━━━━\u001b[0m\u001b[37m\u001b[0m \u001b[1m70s\u001b[0m 70ms/step - accuracy: 0.9950 - loss: 0.0189 - val_accuracy: 0.9959 - val_loss: 0.0181\n",
      "Epoch 16/25\n",
      "\u001b[1m1000/1000\u001b[0m \u001b[32m━━━━━━━━━━━━━━━━━━━━\u001b[0m\u001b[37m\u001b[0m \u001b[1m69s\u001b[0m 69ms/step - accuracy: 0.9955 - loss: 0.0147 - val_accuracy: 0.9994 - val_loss: 0.0024\n",
      "Epoch 17/25\n",
      "\u001b[1m1000/1000\u001b[0m \u001b[32m━━━━━━━━━━━━━━━━━━━━\u001b[0m\u001b[37m\u001b[0m \u001b[1m69s\u001b[0m 69ms/step - accuracy: 0.9960 - loss: 0.0141 - val_accuracy: 0.9995 - val_loss: 0.0045\n",
      "Epoch 18/25\n",
      "\u001b[1m1000/1000\u001b[0m \u001b[32m━━━━━━━━━━━━━━━━━━━━\u001b[0m\u001b[37m\u001b[0m \u001b[1m70s\u001b[0m 70ms/step - accuracy: 0.9970 - loss: 0.0097 - val_accuracy: 0.9996 - val_loss: 0.0012\n",
      "Epoch 19/25\n",
      "\u001b[1m1000/1000\u001b[0m \u001b[32m━━━━━━━━━━━━━━━━━━━━\u001b[0m\u001b[37m\u001b[0m \u001b[1m679s\u001b[0m 680ms/step - accuracy: 0.9966 - loss: 0.0136 - val_accuracy: 1.0000 - val_loss: 6.6783e-05\n",
      "Epoch 20/25\n",
      "\u001b[1m1000/1000\u001b[0m \u001b[32m━━━━━━━━━━━━━━━━━━━━\u001b[0m\u001b[37m\u001b[0m \u001b[1m72s\u001b[0m 72ms/step - accuracy: 0.9958 - loss: 0.0153 - val_accuracy: 0.9999 - val_loss: 2.6752e-04\n",
      "Epoch 21/25\n",
      "\u001b[1m1000/1000\u001b[0m \u001b[32m━━━━━━━━━━━━━━━━━━━━\u001b[0m\u001b[37m\u001b[0m \u001b[1m68s\u001b[0m 68ms/step - accuracy: 0.9971 - loss: 0.0106 - val_accuracy: 0.9977 - val_loss: 0.0178\n",
      "Epoch 22/25\n",
      "\u001b[1m1000/1000\u001b[0m \u001b[32m━━━━━━━━━━━━━━━━━━━━\u001b[0m\u001b[37m\u001b[0m \u001b[1m66s\u001b[0m 66ms/step - accuracy: 0.9967 - loss: 0.0126 - val_accuracy: 0.9996 - val_loss: 0.0012\n",
      "Epoch 23/25\n",
      "\u001b[1m1000/1000\u001b[0m \u001b[32m━━━━━━━━━━━━━━━━━━━━\u001b[0m\u001b[37m\u001b[0m \u001b[1m968s\u001b[0m 969ms/step - accuracy: 0.9978 - loss: 0.0070 - val_accuracy: 0.9999 - val_loss: 2.9412e-04\n",
      "Epoch 24/25\n",
      "\u001b[1m1000/1000\u001b[0m \u001b[32m━━━━━━━━━━━━━━━━━━━━\u001b[0m\u001b[37m\u001b[0m \u001b[1m80s\u001b[0m 79ms/step - accuracy: 0.9974 - loss: 0.0090 - val_accuracy: 1.0000 - val_loss: 1.0545e-05\n",
      "Epoch 25/25\n",
      "\u001b[1m1000/1000\u001b[0m \u001b[32m━━━━━━━━━━━━━━━━━━━━\u001b[0m\u001b[37m\u001b[0m \u001b[1m75s\u001b[0m 75ms/step - accuracy: 0.9971 - loss: 0.0103 - val_accuracy: 0.9995 - val_loss: 0.0027\n"
     ]
    }
   ],
   "source": [
    "# Train the model\n",
    "history = model.fit(datagen.flow(X_train, y_train, batch_size=32), epochs=25, validation_data=(X_test, y_test))\n"
   ]
  },
  {
   "cell_type": "code",
   "execution_count": 14,
   "id": "03a7f3d5-7bbc-4328-8e58-6d17c4eb11e3",
   "metadata": {},
   "outputs": [
    {
     "name": "stdout",
     "output_type": "stream",
     "text": [
      "250/250 - 5s - 20ms/step - accuracy: 0.9995 - loss: 0.0027\n",
      "Test accuracy: 1.00\n"
     ]
    }
   ],
   "source": [
    "# Evaluate the model\n",
    "test_loss, test_accuracy = model.evaluate(X_test, y_test, verbose=2)\n",
    "print(f'Test accuracy: {test_accuracy:.2f}')\n"
   ]
  },
  {
   "cell_type": "code",
   "execution_count": 15,
   "id": "379fc35c-a498-4c75-9bff-c88d5aef16fd",
   "metadata": {},
   "outputs": [
    {
     "data": {
      "image/png": "[encoded data removed]",
      "text/plain": [
       "<Figure size 1200x400 with 2 Axes>"
      ]
     },
     "metadata": {},
     "output_type": "display_data"
    }
   ],
   "source": [
    "# Plot training history\n",
    "plt.figure(figsize=(12, 4))\n",
    "plt.subplot(1, 2, 1)\n",
    "plt.plot(history.history['accuracy'], label='Accuracy')\n",
    "plt.plot(history.history['val_accuracy'], label='Validation Accuracy')\n",
    "plt.xlabel('Epoch')\n",
    "plt.ylabel('Accuracy')\n",
    "plt.ylim([0, 1])\n",
    "plt.legend(loc='lower right')\n",
    "\n",
    "plt.subplot(1, 2, 2)\n",
    "plt.plot(history.history['loss'], label='Loss')\n",
    "plt.plot(history.history['val_loss'], label='Validation Loss')\n",
    "plt.xlabel('Epoch')\n",
    "plt.ylabel('Loss')\n",
    "plt.legend(loc='upper right')\n",
    "\n",
    "plt.show()\n"
   ]
  },
  {
   "cell_type": "code",
   "execution_count": 17,
   "id": "37afad71-dff8-4f66-9930-76f986865b29",
   "metadata": {},
   "outputs": [
    {
     "name": "stdout",
     "output_type": "stream",
     "text": [
      "\u001b[1m1/1\u001b[0m \u001b[32m━━━━━━━━━━━━━━━━━━━━\u001b[0m\u001b[37m\u001b[0m \u001b[1m0s\u001b[0m 300ms/step\n",
      "Predicted gesture: 06_index\n"
     ]
    }
   ],
   "source": [
    "# Make predictions\n",
    "def predict_image(model, img_path):\n",
    "    img = tf.keras.preprocessing.image.load_img(img_path, target_size=(64, 64), color_mode='grayscale')\n",
    "    img_array = tf.keras.preprocessing.image.img_to_array(img) / 255.0\n",
    "    img_array = np.expand_dims(img_array, axis=0)\n",
    "    prediction = model.predict(img_array)\n",
    "    predicted_label = label_binarizer.inverse_transform(prediction)\n",
    "    return predicted_label[0]\n",
    "\n",
    "# Example usage of prediction\n",
    "sample_img_path = 'C:\\\\Users\\\\A JAGADEESH\\\\Desktop\\\\Prodigy infotech\\\\hand gesture\\\\leapGestRecog\\\\00\\\\06_index\\\\frame_00_06_0016.png'\n",
    " # Update this path to an image you want to test\n",
    "predicted_gesture = predict_image(model, sample_img_path)\n",
    "print(f'Predicted gesture: {predicted_gesture}')\n"
   ]
  }
 ],
 "metadata": {
  "kernelspec": {
   "display_name": "Python 3 (ipykernel)",
   "language": "python",
   "name": "python3"
  },
  "language_info": {
   "codemirror_mode": {
    "name": "ipython",
    "version": 3
   },
   "file_extension": ".py",
   "mimetype": "text/x-python",
   "name": "python",
   "nbconvert_exporter": "python",
   "pygments_lexer": "ipython3",
   "version": "3.12.2"
  }
 },
 "nbformat": 4,
 "nbformat_minor": 5
}
